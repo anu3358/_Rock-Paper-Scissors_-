{
  "nbformat": 4,
  "nbformat_minor": 0,
  "metadata": {
    "colab": {
      "provenance": [],
      "authorship_tag": "ABX9TyOiqsznNHuWoBNfs2o2IPpP",
      "include_colab_link": true
    },
    "kernelspec": {
      "name": "python3",
      "display_name": "Python 3"
    },
    "language_info": {
      "name": "python"
    }
  },
  "cells": [
    {
      "cell_type": "markdown",
      "metadata": {
        "id": "view-in-github",
        "colab_type": "text"
      },
      "source": [
        "<a href=\"https://colab.research.google.com/github/anu3358/_Rock-Paper-Scissors_-/blob/main/Untitled26.ipynb\" target=\"_parent\"><img src=\"https://colab.research.google.com/assets/colab-badge.svg\" alt=\"Open In Colab\"/></a>"
      ]
    },
    {
      "cell_type": "code",
      "execution_count": 1,
      "metadata": {
        "colab": {
          "base_uri": "https://localhost:8080/"
        },
        "id": "X87SPcdqB71s",
        "outputId": "2a357b66-dc1c-491c-ae4a-ac5e56f60ac7"
      },
      "outputs": [
        {
          "output_type": "stream",
          "name": "stdout",
          "text": [
            "What do you choose? Type 0 for Rock, 1 for Paper or 2 for Scissors1\n",
            "\n",
            "    _______\n",
            "---'   ____)____\n",
            "          ______)\n",
            "          _______)\n",
            "         _______)\n",
            "---.__________)\n",
            "\n",
            "computer chose:\n",
            "\n",
            "    _______\n",
            "---'   ____)____\n",
            "          ______)\n",
            "          _______)\n",
            "         _______)\n",
            "---.__________)\n",
            "\n",
            "It's a draw!\n"
          ]
        }
      ],
      "source": [
        "import random\n",
        "\n",
        "rock = '''\n",
        "    _______\n",
        "---'   ____)\n",
        "      (_____)\n",
        "      (_____)\n",
        "      (____)\n",
        "---.__(___)\n",
        "'''\n",
        "\n",
        "paper = '''\n",
        "    _______\n",
        "---'   ____)____\n",
        "          ______)\n",
        "          _______)\n",
        "         _______)\n",
        "---.__________)\n",
        "'''\n",
        "\n",
        "scissors = '''\n",
        "    _______\n",
        "---'   ____)____\n",
        "          ______)\n",
        "       __________)\n",
        "      (____)\n",
        "---.__(___)\n",
        "'''\n",
        "\n",
        "game_images = [rock,paper,scissors]\n",
        "user_choice = int(input(\"What do you choose? Type 0 for Rock, 1 for Paper or 2 for Scissors\"))\n",
        "if user_choice >=0 and user_choice <=2:\n",
        "    print(game_images[user_choice])\n",
        "\n",
        "computer_choice = random.randint(0,2)\n",
        "print(\"computer chose:\")\n",
        "print(game_images[computer_choice])\n",
        "\n",
        "if user_choice>= 3 or user_choice < 0:\n",
        "    print(\"You typed an invalid number, You lose!\")\n",
        "elif user_choice == 0 and computer_choice == 2:\n",
        "    print(\"You win!\")\n",
        "elif computer_choice == 0 and user_choice == 2:\n",
        "    print(\"You lose!\")\n",
        "elif computer_choice > user_choice:\n",
        "    print(\"You lose!\")\n",
        "elif user_choice > computer_choice:\n",
        "    print(\"You win!\")\n",
        "elif user_choice == user_choice:\n",
        "    print(\"It's a draw!\")"
      ]
    }
  ]
}